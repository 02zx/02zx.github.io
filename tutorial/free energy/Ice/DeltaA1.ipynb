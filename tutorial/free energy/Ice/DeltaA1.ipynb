{
 "cells": [
  {
   "cell_type": "code",
   "execution_count": 1,
   "id": "97a75cbb",
   "metadata": {},
   "outputs": [],
   "source": [
    "import numpy as np\n",
    "import matplotlib.pyplot as plt"
   ]
  },
  {
   "cell_type": "code",
   "execution_count": 10,
   "id": "f9114654",
   "metadata": {},
   "outputs": [],
   "source": [
    "Usol=np.loadtxt('./Uein_id/rerun/energy.xvg')/432\n",
    "Ulatt=np.loadtxt('./Ulattice/energy.xvg')/432\n",
    "R=8.314\n",
    "T=200"
   ]
  },
  {
   "cell_type": "code",
   "execution_count": 15,
   "id": "ebca0f6a",
   "metadata": {},
   "outputs": [
    {
     "data": {
      "text/plain": [
       "-0.03459532959609783"
      ]
     },
     "execution_count": 15,
     "metadata": {},
     "output_type": "execute_result"
    }
   ],
   "source": [
    "#−37.70(1)\n",
    "dA=Ulatt/R/T -np.log(np.mean(np.exp(-(Usol-Ulatt)/R/T)))\n",
    "dA"
   ]
  },
  {
   "cell_type": "code",
   "execution_count": 13,
   "id": "1bee916d",
   "metadata": {},
   "outputs": [
    {
     "data": {
      "text/plain": [
       "-0.04087516677417331"
      ]
     },
     "execution_count": 13,
     "metadata": {},
     "output_type": "execute_result"
    }
   ],
   "source": []
  },
  {
   "cell_type": "code",
   "execution_count": null,
   "id": "b910e995",
   "metadata": {},
   "outputs": [],
   "source": []
  }
 ],
 "metadata": {
  "kernelspec": {
   "display_name": "Python 3",
   "language": "python",
   "name": "python3"
  },
  "language_info": {
   "codemirror_mode": {
    "name": "ipython",
    "version": 3
   },
   "file_extension": ".py",
   "mimetype": "text/x-python",
   "name": "python",
   "nbconvert_exporter": "python",
   "pygments_lexer": "ipython3",
   "version": "3.8.8"
  }
 },
 "nbformat": 4,
 "nbformat_minor": 5
}
